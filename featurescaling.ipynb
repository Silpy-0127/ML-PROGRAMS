{
 "cells": [
  {
   "cell_type": "code",
   "execution_count": 1,
   "id": "1091805b",
   "metadata": {},
   "outputs": [],
   "source": [
    "import pandas as pd\n",
    "from sklearn.impute import SimpleImputer\n",
    "from sklearn.preprocessing import OneHotEncoder, StandardScaler\n"
   ]
  },
  {
   "cell_type": "code",
   "execution_count": 2,
   "id": "43b29634",
   "metadata": {},
   "outputs": [],
   "source": [
    "data = {\n",
    "    'Age':[25,30,None,28,35],\n",
    "    'Gender':['Female','Male','Male','female','Male'],\n",
    "    'Income':[50000,60000,45000,None,70000]\n",
    "}\n",
    "df=pd.DataFrame(data)"
   ]
  },
  {
   "cell_type": "code",
   "execution_count": 3,
   "id": "2ffe5bfd",
   "metadata": {},
   "outputs": [],
   "source": [
    "imputer = SimpleImputer(strategy='mean')\n",
    "df[['Age','Income']] = imputer.fit_transform(df[['Age','Income']])"
   ]
  },
  {
   "cell_type": "code",
   "execution_count": 4,
   "id": "c8a33bf5",
   "metadata": {},
   "outputs": [
    {
     "name": "stdout",
     "output_type": "stream",
     "text": [
      "Data after handling missing values:\n",
      "    Age  Gender   Income\n",
      "0  25.0  Female  50000.0\n",
      "1  30.0    Male  60000.0\n",
      "2  29.5    Male  45000.0\n",
      "3  28.0  female  56250.0\n",
      "4  35.0    Male  70000.0\n"
     ]
    }
   ],
   "source": [
    "print(\"Data after handling missing values:\")\n",
    "print(df)"
   ]
  },
  {
   "cell_type": "code",
   "execution_count": 5,
   "id": "f0091a40",
   "metadata": {},
   "outputs": [],
   "source": [
    "encoder = OneHotEncoder()\n",
    "encoded_data = encoder.fit_transform(df[['Gender']]).toarray()"
   ]
  },
  {
   "cell_type": "code",
   "execution_count": 6,
   "id": "3db72908",
   "metadata": {},
   "outputs": [],
   "source": [
    "scaler = StandardScaler()\n",
    "scaled_data = scaler.fit_transform(df[['Age','Income']])"
   ]
  },
  {
   "cell_type": "code",
   "execution_count": 7,
   "id": "0ca3c88b",
   "metadata": {},
   "outputs": [
    {
     "name": "stdout",
     "output_type": "stream",
     "text": [
      "\n",
      "Data after feature scaling:\n",
      "    Scaled Age  Scaled Income\n",
      "0    -1.382164      -0.727778\n",
      "1     0.153574       0.436667\n",
      "2     0.000000      -1.310001\n",
      "3    -0.460721       0.000000\n",
      "4     1.689312       1.601112\n"
     ]
    }
   ],
   "source": [
    "scaled_df = pd.DataFrame(scaled_data,columns=[' Scaled Age','Scaled Income'])\n",
    "print(\"\\nData after feature scaling:\")\n",
    "print(scaled_df)"
   ]
  }
 ],
 "metadata": {
  "kernelspec": {
   "display_name": "Python 3",
   "language": "python",
   "name": "python3"
  },
  "language_info": {
   "codemirror_mode": {
    "name": "ipython",
    "version": 3
   },
   "file_extension": ".py",
   "mimetype": "text/x-python",
   "name": "python",
   "nbconvert_exporter": "python",
   "pygments_lexer": "ipython3",
   "version": "3.13.2"
  }
 },
 "nbformat": 4,
 "nbformat_minor": 5
}
